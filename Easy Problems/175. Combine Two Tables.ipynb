{
 "cells": [
  {
   "cell_type": "raw",
   "id": "41e2d2e9",
   "metadata": {},
   "source": [
    "Create table If Not Exists Person (personId int, firstName varchar(255), lastName varchar(255))\n",
    "Create table If Not Exists Address (addressId int, personId int, city varchar(255), state varchar(255))\n",
    "Truncate table Person\n",
    "insert into Person (personId, lastName, firstName) values ('1', 'Wang', 'Allen')\n",
    "insert into Person (personId, lastName, firstName) values ('2', 'Alice', 'Bob')\n",
    "Truncate table Address\n",
    "insert into Address (addressId, personId, city, state) values ('1', '2', 'New York City', 'New York')\n",
    "insert into Address (addressId, personId, city, state) values ('2', '3', 'Leetcode', 'California')"
   ]
  },
  {
   "cell_type": "raw",
   "id": "63b95961",
   "metadata": {},
   "source": [
    "Table: Person\n",
    "\n",
    "+-------------+---------+\n",
    "| Column Name | Type    |\n",
    "+-------------+---------+\n",
    "| personId    | int     |\n",
    "| lastName    | varchar |\n",
    "| firstName   | varchar |\n",
    "+-------------+---------+\n",
    "personId is the primary key column for this table.\n",
    "This table contains information about the ID of some persons and their first and last names.\n",
    " \n",
    "\n",
    "Table: Address\n",
    "\n",
    "+-------------+---------+\n",
    "| Column Name | Type    |\n",
    "+-------------+---------+\n",
    "| addressId   | int     |\n",
    "| personId    | int     |\n",
    "| city        | varchar |\n",
    "| state       | varchar |\n",
    "+-------------+---------+\n",
    "addressId is the primary key column for this table.\n",
    "Each row of this table contains information about the city and state of one person with ID = PersonId.\n",
    " \n",
    "\n",
    "Write an SQL query to report the first name, last name, city, and state of each person in the Person table. If the address of a personId is not present in the Address table, report null instead.\n",
    "\n",
    "Return the result table in any order.\n",
    "\n",
    "The query result format is in the following example.\n",
    "\n",
    " \n",
    "\n",
    "Example 1:\n",
    "\n",
    "Input: \n",
    "Person table:\n",
    "+----------+----------+-----------+\n",
    "| personId | lastName | firstName |\n",
    "+----------+----------+-----------+\n",
    "| 1        | Wang     | Allen     |\n",
    "| 2        | Alice    | Bob       |\n",
    "+----------+----------+-----------+\n",
    "Address table:\n",
    "+-----------+----------+---------------+------------+\n",
    "| addressId | personId | city          | state      |\n",
    "+-----------+----------+---------------+------------+\n",
    "| 1         | 2        | New York City | New York   |\n",
    "| 2         | 3        | Leetcode      | California |\n",
    "+-----------+----------+---------------+------------+\n",
    "Output: \n",
    "+-----------+----------+---------------+----------+\n",
    "| firstName | lastName | city          | state    |\n",
    "+-----------+----------+---------------+----------+\n",
    "| Allen     | Wang     | Null          | Null     |\n",
    "| Bob       | Alice    | New York City | New York |\n",
    "+-----------+----------+---------------+----------+\n",
    "Explanation: \n",
    "There is no address in the address table for the personId = 1 so we return null in their city and state.\n",
    "addressId = 1 contains information about the address of personId = 2."
   ]
  },
  {
   "cell_type": "raw",
   "id": "499ad7db",
   "metadata": {},
   "source": [
    "# Write your MySQL query statement below\n",
    "select p.firstName,p.lastName,a.city,a.state \n",
    "from person p\n",
    "left join address a on p.personId=a.personId"
   ]
  },
  {
   "cell_type": "code",
   "execution_count": null,
   "id": "f598a077",
   "metadata": {},
   "outputs": [],
   "source": []
  }
 ],
 "metadata": {
  "kernelspec": {
   "display_name": "Python 3",
   "language": "python",
   "name": "python3"
  },
  "language_info": {
   "codemirror_mode": {
    "name": "ipython",
    "version": 3
   },
   "file_extension": ".py",
   "mimetype": "text/x-python",
   "name": "python",
   "nbconvert_exporter": "python",
   "pygments_lexer": "ipython3",
   "version": "3.8.8"
  }
 },
 "nbformat": 4,
 "nbformat_minor": 5
}
